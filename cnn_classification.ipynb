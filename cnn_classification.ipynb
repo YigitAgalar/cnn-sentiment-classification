{
 "cells": [
  {
   "cell_type": "code",
   "execution_count": 65,
   "metadata": {},
   "outputs": [],
   "source": [
    "# CNN classificatiion for text classification  \n",
    "\n",
    "\n",
    "#tfidf+wavelet\n",
    "#tfidf\n",
    "#w2v        "
   ]
  },
  {
   "cell_type": "code",
   "execution_count": null,
   "metadata": {},
   "outputs": [],
   "source": []
  },
  {
   "cell_type": "code",
   "execution_count": null,
   "metadata": {},
   "outputs": [],
   "source": []
  },
  {
   "cell_type": "code",
   "execution_count": null,
   "metadata": {},
   "outputs": [],
   "source": []
  },
  {
   "cell_type": "code",
   "execution_count": null,
   "metadata": {},
   "outputs": [],
   "source": []
  },
  {
   "cell_type": "code",
   "execution_count": 66,
   "metadata": {},
   "outputs": [],
   "source": [
    "# import libraries\n",
    "import numpy as np\n",
    "import pandas as pd\n",
    "import matplotlib.pyplot as plt\n",
    "import seaborn as sns\n",
    "import re\n",
    "import nltk\n",
    "import string\n",
    "import os\n",
    "from textblob import TextBlob\n"
   ]
  },
  {
   "cell_type": "code",
   "execution_count": 67,
   "metadata": {},
   "outputs": [],
   "source": [
    "import tensorflow as tf"
   ]
  },
  {
   "cell_type": "code",
   "execution_count": 68,
   "metadata": {},
   "outputs": [
    {
     "name": "stderr",
     "output_type": "stream",
     "text": [
      "[nltk_data] Downloading package stopwords to\n",
      "[nltk_data]     /Users/yigitagalar/nltk_data...\n",
      "[nltk_data]   Package stopwords is already up-to-date!\n",
      "[nltk_data] Downloading package punkt to\n",
      "[nltk_data]     /Users/yigitagalar/nltk_data...\n",
      "[nltk_data]   Package punkt is already up-to-date!\n",
      "[nltk_data] Downloading package wordnet to\n",
      "[nltk_data]     /Users/yigitagalar/nltk_data...\n",
      "[nltk_data]   Package wordnet is already up-to-date!\n",
      "[nltk_data] Downloading package omw-1.4 to\n",
      "[nltk_data]     /Users/yigitagalar/nltk_data...\n",
      "[nltk_data]   Package omw-1.4 is already up-to-date!\n"
     ]
    }
   ],
   "source": [
    "# import libraries for text processing\n",
    "from nltk.corpus import stopwords\n",
    "import nltk\n",
    "nltk.download('stopwords')\n",
    "nltk.download('punkt')\n",
    "nltk.download('wordnet')\n",
    "nltk.download('omw-1.4')\n",
    "from nltk.corpus import stopwords\n",
    "from nltk.stem import WordNetLemmatizer\n",
    "from nltk.tokenize import word_tokenize\n",
    "import demoji"
   ]
  },
  {
   "cell_type": "code",
   "execution_count": 69,
   "metadata": {},
   "outputs": [
    {
     "ename": "FileNotFoundError",
     "evalue": "[Errno 2] No such file or directory: 'btc_tweets.csv'",
     "output_type": "error",
     "traceback": [
      "\u001b[0;31m---------------------------------------------------------------------------\u001b[0m",
      "\u001b[0;31mFileNotFoundError\u001b[0m                         Traceback (most recent call last)",
      "Cell \u001b[0;32mIn[69], line 2\u001b[0m\n\u001b[1;32m      1\u001b[0m \u001b[39m# read data btc_tweets.csv\u001b[39;00m\n\u001b[0;32m----> 2\u001b[0m df \u001b[39m=\u001b[39m pd\u001b[39m.\u001b[39;49mread_csv(\u001b[39m'\u001b[39;49m\u001b[39mbtc_tweets.csv\u001b[39;49m\u001b[39m'\u001b[39;49m)\n\u001b[1;32m      3\u001b[0m df \u001b[39m=\u001b[39m df\u001b[39m.\u001b[39miloc[\u001b[39m0\u001b[39m:\u001b[39m70000\u001b[39m]\n\u001b[1;32m      4\u001b[0m df\u001b[39m.\u001b[39mhead()\n",
      "File \u001b[0;32m~/opt/miniconda3/envs/btc/lib/python3.10/site-packages/pandas/util/_decorators.py:211\u001b[0m, in \u001b[0;36mdeprecate_kwarg.<locals>._deprecate_kwarg.<locals>.wrapper\u001b[0;34m(*args, **kwargs)\u001b[0m\n\u001b[1;32m    209\u001b[0m     \u001b[39melse\u001b[39;00m:\n\u001b[1;32m    210\u001b[0m         kwargs[new_arg_name] \u001b[39m=\u001b[39m new_arg_value\n\u001b[0;32m--> 211\u001b[0m \u001b[39mreturn\u001b[39;00m func(\u001b[39m*\u001b[39;49margs, \u001b[39m*\u001b[39;49m\u001b[39m*\u001b[39;49mkwargs)\n",
      "File \u001b[0;32m~/opt/miniconda3/envs/btc/lib/python3.10/site-packages/pandas/util/_decorators.py:331\u001b[0m, in \u001b[0;36mdeprecate_nonkeyword_arguments.<locals>.decorate.<locals>.wrapper\u001b[0;34m(*args, **kwargs)\u001b[0m\n\u001b[1;32m    325\u001b[0m \u001b[39mif\u001b[39;00m \u001b[39mlen\u001b[39m(args) \u001b[39m>\u001b[39m num_allow_args:\n\u001b[1;32m    326\u001b[0m     warnings\u001b[39m.\u001b[39mwarn(\n\u001b[1;32m    327\u001b[0m         msg\u001b[39m.\u001b[39mformat(arguments\u001b[39m=\u001b[39m_format_argument_list(allow_args)),\n\u001b[1;32m    328\u001b[0m         \u001b[39mFutureWarning\u001b[39;00m,\n\u001b[1;32m    329\u001b[0m         stacklevel\u001b[39m=\u001b[39mfind_stack_level(),\n\u001b[1;32m    330\u001b[0m     )\n\u001b[0;32m--> 331\u001b[0m \u001b[39mreturn\u001b[39;00m func(\u001b[39m*\u001b[39;49margs, \u001b[39m*\u001b[39;49m\u001b[39m*\u001b[39;49mkwargs)\n",
      "File \u001b[0;32m~/opt/miniconda3/envs/btc/lib/python3.10/site-packages/pandas/io/parsers/readers.py:950\u001b[0m, in \u001b[0;36mread_csv\u001b[0;34m(filepath_or_buffer, sep, delimiter, header, names, index_col, usecols, squeeze, prefix, mangle_dupe_cols, dtype, engine, converters, true_values, false_values, skipinitialspace, skiprows, skipfooter, nrows, na_values, keep_default_na, na_filter, verbose, skip_blank_lines, parse_dates, infer_datetime_format, keep_date_col, date_parser, dayfirst, cache_dates, iterator, chunksize, compression, thousands, decimal, lineterminator, quotechar, quoting, doublequote, escapechar, comment, encoding, encoding_errors, dialect, error_bad_lines, warn_bad_lines, on_bad_lines, delim_whitespace, low_memory, memory_map, float_precision, storage_options)\u001b[0m\n\u001b[1;32m    935\u001b[0m kwds_defaults \u001b[39m=\u001b[39m _refine_defaults_read(\n\u001b[1;32m    936\u001b[0m     dialect,\n\u001b[1;32m    937\u001b[0m     delimiter,\n\u001b[0;32m   (...)\u001b[0m\n\u001b[1;32m    946\u001b[0m     defaults\u001b[39m=\u001b[39m{\u001b[39m\"\u001b[39m\u001b[39mdelimiter\u001b[39m\u001b[39m\"\u001b[39m: \u001b[39m\"\u001b[39m\u001b[39m,\u001b[39m\u001b[39m\"\u001b[39m},\n\u001b[1;32m    947\u001b[0m )\n\u001b[1;32m    948\u001b[0m kwds\u001b[39m.\u001b[39mupdate(kwds_defaults)\n\u001b[0;32m--> 950\u001b[0m \u001b[39mreturn\u001b[39;00m _read(filepath_or_buffer, kwds)\n",
      "File \u001b[0;32m~/opt/miniconda3/envs/btc/lib/python3.10/site-packages/pandas/io/parsers/readers.py:605\u001b[0m, in \u001b[0;36m_read\u001b[0;34m(filepath_or_buffer, kwds)\u001b[0m\n\u001b[1;32m    602\u001b[0m _validate_names(kwds\u001b[39m.\u001b[39mget(\u001b[39m\"\u001b[39m\u001b[39mnames\u001b[39m\u001b[39m\"\u001b[39m, \u001b[39mNone\u001b[39;00m))\n\u001b[1;32m    604\u001b[0m \u001b[39m# Create the parser.\u001b[39;00m\n\u001b[0;32m--> 605\u001b[0m parser \u001b[39m=\u001b[39m TextFileReader(filepath_or_buffer, \u001b[39m*\u001b[39;49m\u001b[39m*\u001b[39;49mkwds)\n\u001b[1;32m    607\u001b[0m \u001b[39mif\u001b[39;00m chunksize \u001b[39mor\u001b[39;00m iterator:\n\u001b[1;32m    608\u001b[0m     \u001b[39mreturn\u001b[39;00m parser\n",
      "File \u001b[0;32m~/opt/miniconda3/envs/btc/lib/python3.10/site-packages/pandas/io/parsers/readers.py:1442\u001b[0m, in \u001b[0;36mTextFileReader.__init__\u001b[0;34m(self, f, engine, **kwds)\u001b[0m\n\u001b[1;32m   1439\u001b[0m     \u001b[39mself\u001b[39m\u001b[39m.\u001b[39moptions[\u001b[39m\"\u001b[39m\u001b[39mhas_index_names\u001b[39m\u001b[39m\"\u001b[39m] \u001b[39m=\u001b[39m kwds[\u001b[39m\"\u001b[39m\u001b[39mhas_index_names\u001b[39m\u001b[39m\"\u001b[39m]\n\u001b[1;32m   1441\u001b[0m \u001b[39mself\u001b[39m\u001b[39m.\u001b[39mhandles: IOHandles \u001b[39m|\u001b[39m \u001b[39mNone\u001b[39;00m \u001b[39m=\u001b[39m \u001b[39mNone\u001b[39;00m\n\u001b[0;32m-> 1442\u001b[0m \u001b[39mself\u001b[39m\u001b[39m.\u001b[39m_engine \u001b[39m=\u001b[39m \u001b[39mself\u001b[39;49m\u001b[39m.\u001b[39;49m_make_engine(f, \u001b[39mself\u001b[39;49m\u001b[39m.\u001b[39;49mengine)\n",
      "File \u001b[0;32m~/opt/miniconda3/envs/btc/lib/python3.10/site-packages/pandas/io/parsers/readers.py:1735\u001b[0m, in \u001b[0;36mTextFileReader._make_engine\u001b[0;34m(self, f, engine)\u001b[0m\n\u001b[1;32m   1733\u001b[0m     \u001b[39mif\u001b[39;00m \u001b[39m\"\u001b[39m\u001b[39mb\u001b[39m\u001b[39m\"\u001b[39m \u001b[39mnot\u001b[39;00m \u001b[39min\u001b[39;00m mode:\n\u001b[1;32m   1734\u001b[0m         mode \u001b[39m+\u001b[39m\u001b[39m=\u001b[39m \u001b[39m\"\u001b[39m\u001b[39mb\u001b[39m\u001b[39m\"\u001b[39m\n\u001b[0;32m-> 1735\u001b[0m \u001b[39mself\u001b[39m\u001b[39m.\u001b[39mhandles \u001b[39m=\u001b[39m get_handle(\n\u001b[1;32m   1736\u001b[0m     f,\n\u001b[1;32m   1737\u001b[0m     mode,\n\u001b[1;32m   1738\u001b[0m     encoding\u001b[39m=\u001b[39;49m\u001b[39mself\u001b[39;49m\u001b[39m.\u001b[39;49moptions\u001b[39m.\u001b[39;49mget(\u001b[39m\"\u001b[39;49m\u001b[39mencoding\u001b[39;49m\u001b[39m\"\u001b[39;49m, \u001b[39mNone\u001b[39;49;00m),\n\u001b[1;32m   1739\u001b[0m     compression\u001b[39m=\u001b[39;49m\u001b[39mself\u001b[39;49m\u001b[39m.\u001b[39;49moptions\u001b[39m.\u001b[39;49mget(\u001b[39m\"\u001b[39;49m\u001b[39mcompression\u001b[39;49m\u001b[39m\"\u001b[39;49m, \u001b[39mNone\u001b[39;49;00m),\n\u001b[1;32m   1740\u001b[0m     memory_map\u001b[39m=\u001b[39;49m\u001b[39mself\u001b[39;49m\u001b[39m.\u001b[39;49moptions\u001b[39m.\u001b[39;49mget(\u001b[39m\"\u001b[39;49m\u001b[39mmemory_map\u001b[39;49m\u001b[39m\"\u001b[39;49m, \u001b[39mFalse\u001b[39;49;00m),\n\u001b[1;32m   1741\u001b[0m     is_text\u001b[39m=\u001b[39;49mis_text,\n\u001b[1;32m   1742\u001b[0m     errors\u001b[39m=\u001b[39;49m\u001b[39mself\u001b[39;49m\u001b[39m.\u001b[39;49moptions\u001b[39m.\u001b[39;49mget(\u001b[39m\"\u001b[39;49m\u001b[39mencoding_errors\u001b[39;49m\u001b[39m\"\u001b[39;49m, \u001b[39m\"\u001b[39;49m\u001b[39mstrict\u001b[39;49m\u001b[39m\"\u001b[39;49m),\n\u001b[1;32m   1743\u001b[0m     storage_options\u001b[39m=\u001b[39;49m\u001b[39mself\u001b[39;49m\u001b[39m.\u001b[39;49moptions\u001b[39m.\u001b[39;49mget(\u001b[39m\"\u001b[39;49m\u001b[39mstorage_options\u001b[39;49m\u001b[39m\"\u001b[39;49m, \u001b[39mNone\u001b[39;49;00m),\n\u001b[1;32m   1744\u001b[0m )\n\u001b[1;32m   1745\u001b[0m \u001b[39massert\u001b[39;00m \u001b[39mself\u001b[39m\u001b[39m.\u001b[39mhandles \u001b[39mis\u001b[39;00m \u001b[39mnot\u001b[39;00m \u001b[39mNone\u001b[39;00m\n\u001b[1;32m   1746\u001b[0m f \u001b[39m=\u001b[39m \u001b[39mself\u001b[39m\u001b[39m.\u001b[39mhandles\u001b[39m.\u001b[39mhandle\n",
      "File \u001b[0;32m~/opt/miniconda3/envs/btc/lib/python3.10/site-packages/pandas/io/common.py:856\u001b[0m, in \u001b[0;36mget_handle\u001b[0;34m(path_or_buf, mode, encoding, compression, memory_map, is_text, errors, storage_options)\u001b[0m\n\u001b[1;32m    851\u001b[0m \u001b[39melif\u001b[39;00m \u001b[39misinstance\u001b[39m(handle, \u001b[39mstr\u001b[39m):\n\u001b[1;32m    852\u001b[0m     \u001b[39m# Check whether the filename is to be opened in binary mode.\u001b[39;00m\n\u001b[1;32m    853\u001b[0m     \u001b[39m# Binary mode does not support 'encoding' and 'newline'.\u001b[39;00m\n\u001b[1;32m    854\u001b[0m     \u001b[39mif\u001b[39;00m ioargs\u001b[39m.\u001b[39mencoding \u001b[39mand\u001b[39;00m \u001b[39m\"\u001b[39m\u001b[39mb\u001b[39m\u001b[39m\"\u001b[39m \u001b[39mnot\u001b[39;00m \u001b[39min\u001b[39;00m ioargs\u001b[39m.\u001b[39mmode:\n\u001b[1;32m    855\u001b[0m         \u001b[39m# Encoding\u001b[39;00m\n\u001b[0;32m--> 856\u001b[0m         handle \u001b[39m=\u001b[39m \u001b[39mopen\u001b[39;49m(\n\u001b[1;32m    857\u001b[0m             handle,\n\u001b[1;32m    858\u001b[0m             ioargs\u001b[39m.\u001b[39;49mmode,\n\u001b[1;32m    859\u001b[0m             encoding\u001b[39m=\u001b[39;49mioargs\u001b[39m.\u001b[39;49mencoding,\n\u001b[1;32m    860\u001b[0m             errors\u001b[39m=\u001b[39;49merrors,\n\u001b[1;32m    861\u001b[0m             newline\u001b[39m=\u001b[39;49m\u001b[39m\"\u001b[39;49m\u001b[39m\"\u001b[39;49m,\n\u001b[1;32m    862\u001b[0m         )\n\u001b[1;32m    863\u001b[0m     \u001b[39melse\u001b[39;00m:\n\u001b[1;32m    864\u001b[0m         \u001b[39m# Binary mode\u001b[39;00m\n\u001b[1;32m    865\u001b[0m         handle \u001b[39m=\u001b[39m \u001b[39mopen\u001b[39m(handle, ioargs\u001b[39m.\u001b[39mmode)\n",
      "\u001b[0;31mFileNotFoundError\u001b[0m: [Errno 2] No such file or directory: 'btc_tweets.csv'"
     ]
    }
   ],
   "source": [
    "# read data btc_tweets.csv\n",
    "df = pd.read_csv('btc_tweets.csv')\n",
    "df = df.iloc[0:70000]\n",
    "df.head()\n",
    "df.shape"
   ]
  },
  {
   "cell_type": "code",
   "execution_count": null,
   "metadata": {},
   "outputs": [],
   "source": [
    "spam_words = ['btc', 'eth', 'xrp', 'ltc', 'bch', 'eos', 'bnb', 'xtz', 'ada', 'xlm',\n",
    "                    'trx', 'usdt', 'link', 'xmr', 'leo', 'miota', 'tusd', 'neo', 'xem',\n",
    "                    'xvg', 'btmx', 'bsv', 'vet', 'ht', 'dcr', 'pax', 'bat', 'cro', 'dash',\n",
    "                    'oxt', 'zec', 'lend', 'hbar', 'mkr', 'wtc', 'xzc', 'yfi', 'dai', 'btg',\n",
    "                    'atom', 'qnt', 'cvc', 'doge', 'paxg', 'link', 'usdc', 'grt', 'rvn', 'iost','sol','algo','luna','solana','algorand','lunacoin','shin','matic',\n",
    "                    'mdt', 'ftt', 'bcd', 'dgb', 'bnt', 'bat', 'tomo', 'tfuel', 'tnt', 'tmtg',\n",
    "                    'tct', 'tachain', 'tmt', 'tct', 'tachain', 'tmt', 'tct', 'tachain', 'tmt',\n",
    "                    'tct', 'tachain', 'tmt', 'tct', 'tachain', 'tmt', 'tct', 'tachain', 'tmt','bitcoin', 'ethereum', 'ripple', 'litecoin', 'bitcoin cash', 'eos', 'binance coin', 'tezos', 'cardano', 'stellar',\n",
    "                    'tron', 'tether', 'chainlink', 'monero', 'unus sed leo', 'iota', 'trueusd', 'neo', 'nem',\n",
    "                    'verge', 'bitmax', 'bitcoin sv', 'vechain', 'huobi token', 'decred', 'paxos standard', 'basic attention token', 'crypto.com', 'dash',\n",
    "                    'orchid', 'zcash', 'ethlend', 'hbar', 'maker', 'waltonchain', 'zcoin', 'yearn.finance', 'dai', 'bitcoin gold',\n",
    "                    'cosmos', 'quant', 'civic', 'dogecoin', 'pax gold', 'chainlink', 'usd coin', 'graph', 'ravencoin', 'iostoken',\n",
    "                    'measurable data token', 'ftx token', 'bitcoin diamond', 'digibyte', 'bancor', 'basic attention token', 'tomochain', 'theta fuel', 'tierion', 'timeless protocol',\n",
    "                    'time new bank', 'tachain', 'timenewbank', 'time new bank', 'tachain', 'timenewbank', 'time new bank', 'tachain', 'timenewbank', 'time new bank',\n",
    "                    'tachain', 'timenewbank', 'time new bank', 'tachain', 'timenewbank', 'time new bank', 'tachain', 'timenewbank', 'time new bank', 'tachain', 'timenewbank','cspr']\n",
    "set(spam_words)\n",
    "stop_words = set(stopwords.words('english'))"
   ]
  },
  {
   "cell_type": "code",
   "execution_count": null,
   "metadata": {},
   "outputs": [],
   "source": [
    "# clean Tweet column and replace emojis with text description and remove set of spam words\n",
    "def CleanTXT(text):\n",
    "    text = str(text)\n",
    "    text = text.lower() # text lowered\n",
    "    \n",
    "    text = demoji.replace_with_desc(text,\"\") # emojis replaced with desc\n",
    "    \n",
    "    text = text.replace('\\n','') # remove \\n\n",
    "    \n",
    "    text = text.replace(\"$\",\"\") # remove $\n",
    "    \n",
    "    text = re.sub(r'@\\w+|\\#','',text) # remove hashtags and @ mentions \n",
    "    \n",
    "    text= text.translate(str.maketrans(\"\",\"\",string.punctuation)) #punctuation removed\n",
    "    \n",
    "    #https://stackoverflow.com/questions/11331982/how-to-remove-any-url-within-a-string-in-python\n",
    "    text = re.sub(r\"http\\s+|www\\S+|https\\S+\",\"\",text,flags=re.MULTILINE) # remove link \n",
    "    \n",
    "    #filtering stopwords\n",
    "    filtered_words = [word for word in TextBlob(text).words if word not in stop_words]\n",
    "    \n",
    "    #filtering spamwords\n",
    "    filtered_words = [word for word in filtered_words if word not in spam_words]\n",
    "    \n",
    "    #lemmatization\n",
    "    lemmatized_words = [word.lemmatize('v') for word in filtered_words]\n",
    "    \n",
    "    \n",
    "    return \" \".join(lemmatized_words)\n",
    "\n",
    "# clean Tweet column\n",
    "df['Clean_Tweet'] = df[\"Tweet\"].map(CleanTXT)\n"
   ]
  },
  {
   "cell_type": "code",
   "execution_count": null,
   "metadata": {},
   "outputs": [
    {
     "name": "stdout",
     "output_type": "stream",
     "text": [
      "(70000, 5)\n",
      "(69823, 5)\n"
     ]
    }
   ],
   "source": [
    "print(df.shape)\n",
    "df=df[df[\"Clean_Tweet\"]!=\"\"]\n",
    "df=df[df[\"Clean_Tweet\"]!=\" \"]\n",
    "df=df[df[\"Clean_Tweet\"]!=\"nan\"]\n",
    "df.reset_index(drop=True,inplace=True)\n",
    "print(df.shape)"
   ]
  },
  {
   "cell_type": "code",
   "execution_count": null,
   "metadata": {},
   "outputs": [
    {
     "name": "stdout",
     "output_type": "stream",
     "text": [
      "(69823, 5)\n",
      "(69823, 5)\n"
     ]
    }
   ],
   "source": [
    "print(df.shape)\n",
    "df[\"Clean_Tweet\"].drop_duplicates(inplace=True)\n",
    "print(df.shape)"
   ]
  },
  {
   "cell_type": "code",
   "execution_count": null,
   "metadata": {},
   "outputs": [],
   "source": [
    "df=pd.read_pickle('preprocessed.pkl')"
   ]
  },
  {
   "cell_type": "code",
   "execution_count": null,
   "metadata": {},
   "outputs": [
    {
     "name": "stderr",
     "output_type": "stream",
     "text": [
      "[nltk_data] Downloading package vader_lexicon to\n",
      "[nltk_data]     /Users/yigitagalar/nltk_data...\n",
      "[nltk_data]   Package vader_lexicon is already up-to-date!\n"
     ]
    }
   ],
   "source": [
    "from nltk.sentiment.vader import SentimentIntensityAnalyzer\n",
    "nltk.download('vader_lexicon')\n",
    "sia = SentimentIntensityAnalyzer()"
   ]
  },
  {
   "cell_type": "code",
   "execution_count": null,
   "metadata": {},
   "outputs": [],
   "source": [
    "def polarity_score(compound):\n",
    "    if compound > 0.05:\n",
    "        return int(1)\n",
    "    elif compound < -0.05:\n",
    "        return int(-1)\n",
    "    elif compound >= -0.05 and compound <= 0.05:\n",
    "        return (0)"
   ]
  },
  {
   "cell_type": "code",
   "execution_count": null,
   "metadata": {},
   "outputs": [],
   "source": [
    "vader_scores_clean = df['Clean_Tweet'].apply(lambda txt: sia.polarity_scores(txt))\n",
    "vader_scoring_df_clean = pd.DataFrame().from_records(vader_scores_clean)\n",
    "df[\"sentiment\"]=vader_scoring_df_clean[\"compound\"].apply(polarity_score)\n",
    "del vader_scoring_df_clean"
   ]
  },
  {
   "cell_type": "code",
   "execution_count": null,
   "metadata": {},
   "outputs": [
    {
     "data": {
      "text/html": [
       "<div>\n",
       "<style scoped>\n",
       "    .dataframe tbody tr th:only-of-type {\n",
       "        vertical-align: middle;\n",
       "    }\n",
       "\n",
       "    .dataframe tbody tr th {\n",
       "        vertical-align: top;\n",
       "    }\n",
       "\n",
       "    .dataframe thead th {\n",
       "        text-align: right;\n",
       "    }\n",
       "</style>\n",
       "<table border=\"1\" class=\"dataframe\">\n",
       "  <thead>\n",
       "    <tr style=\"text-align: right;\">\n",
       "      <th></th>\n",
       "      <th>Unnamed: 0</th>\n",
       "      <th>Date</th>\n",
       "      <th>User</th>\n",
       "      <th>Tweet</th>\n",
       "      <th>Clean_Tweet</th>\n",
       "      <th>sentiment</th>\n",
       "    </tr>\n",
       "  </thead>\n",
       "  <tbody>\n",
       "    <tr>\n",
       "      <th>0</th>\n",
       "      <td>0</td>\n",
       "      <td>2023-01-04 23:59:47+00:00</td>\n",
       "      <td>Dodococogoat</td>\n",
       "      <td>We had 3 Asian session pumps in a row from $BT...</td>\n",
       "      <td>3 asian session pump row roll floor laugh cont...</td>\n",
       "      <td>1</td>\n",
       "    </tr>\n",
       "    <tr>\n",
       "      <th>1</th>\n",
       "      <td>1</td>\n",
       "      <td>2023-01-04 23:58:38+00:00</td>\n",
       "      <td>DiegoXavvi</td>\n",
       "      <td>Wow 🤩, @allianceblock Nexera has Onramper. \\nT...</td>\n",
       "      <td>wow starstruck nexera onramper game changer de...</td>\n",
       "      <td>1</td>\n",
       "    </tr>\n",
       "    <tr>\n",
       "      <th>2</th>\n",
       "      <td>2</td>\n",
       "      <td>2023-01-04 23:58:11+00:00</td>\n",
       "      <td>apes_mixup</td>\n",
       "      <td>$BTC will shock every one, for the good reason...</td>\n",
       "      <td>shock every one good reason</td>\n",
       "      <td>1</td>\n",
       "    </tr>\n",
       "    <tr>\n",
       "      <th>3</th>\n",
       "      <td>4</td>\n",
       "      <td>2023-01-04 23:57:50+00:00</td>\n",
       "      <td>boomtimecrypto</td>\n",
       "      <td>How much better can it get in crypto - ask you...</td>\n",
       "      <td>much better get crypto ask thismeme slideshow ...</td>\n",
       "      <td>1</td>\n",
       "    </tr>\n",
       "    <tr>\n",
       "      <th>4</th>\n",
       "      <td>5</td>\n",
       "      <td>2023-01-04 23:57:49+00:00</td>\n",
       "      <td>Matt_O_Mart</td>\n",
       "      <td>Sometimes, I still log in just to look at \"Cel...</td>\n",
       "      <td>sometimes still log look celsiuss money neutra...</td>\n",
       "      <td>0</td>\n",
       "    </tr>\n",
       "  </tbody>\n",
       "</table>\n",
       "</div>"
      ],
      "text/plain": [
       "   Unnamed: 0                       Date            User  \\\n",
       "0           0  2023-01-04 23:59:47+00:00    Dodococogoat   \n",
       "1           1  2023-01-04 23:58:38+00:00      DiegoXavvi   \n",
       "2           2  2023-01-04 23:58:11+00:00      apes_mixup   \n",
       "3           4  2023-01-04 23:57:50+00:00  boomtimecrypto   \n",
       "4           5  2023-01-04 23:57:49+00:00     Matt_O_Mart   \n",
       "\n",
       "                                               Tweet  \\\n",
       "0  We had 3 Asian session pumps in a row from $BT...   \n",
       "1  Wow 🤩, @allianceblock Nexera has Onramper. \\nT...   \n",
       "2  $BTC will shock every one, for the good reason...   \n",
       "3  How much better can it get in crypto - ask you...   \n",
       "4  Sometimes, I still log in just to look at \"Cel...   \n",
       "\n",
       "                                         Clean_Tweet  sentiment  \n",
       "0  3 asian session pump row roll floor laugh cont...          1  \n",
       "1  wow starstruck nexera onramper game changer de...          1  \n",
       "2                        shock every one good reason          1  \n",
       "3  much better get crypto ask thismeme slideshow ...          1  \n",
       "4  sometimes still log look celsiuss money neutra...          0  "
      ]
     },
     "execution_count": 20,
     "metadata": {},
     "output_type": "execute_result"
    }
   ],
   "source": [
    "df.head()"
   ]
  },
  {
   "cell_type": "code",
   "execution_count": null,
   "metadata": {},
   "outputs": [],
   "source": [
    "df[\"sentiment\"].to_csv(\"sentiments.csv\")"
   ]
  },
  {
   "cell_type": "code",
   "execution_count": null,
   "metadata": {},
   "outputs": [],
   "source": []
  },
  {
   "cell_type": "code",
   "execution_count": null,
   "metadata": {},
   "outputs": [],
   "source": [
    "from sklearn.feature_extraction.text import TfidfVectorizer\n",
    "vectorizer = TfidfVectorizer()\n",
    "tfidf_vector=vectorizer.fit_transform(df[\"Clean_Tweet\"])\n",
    "#tfidf_array = tfidf_vector.toarray()"
   ]
  },
  {
   "cell_type": "code",
   "execution_count": null,
   "metadata": {},
   "outputs": [],
   "source": [
    "random_state = 42\n",
    "np.random.seed(random_state)\n",
    "tf.random.set_seed(random_state)"
   ]
  },
  {
   "cell_type": "code",
   "execution_count": null,
   "metadata": {},
   "outputs": [],
   "source": [
    "\n"
   ]
  },
  {
   "cell_type": "code",
   "execution_count": null,
   "metadata": {},
   "outputs": [],
   "source": [
    "from sklearn.model_selection import train_test_split\n",
    "X_train, X_test, y_train, y_test = train_test_split(tfidf_vector, df[\"sentiment\"], test_size=0.2, random_state=42)\n",
    "#10% validation split of test\n",
    "X_test, X_val, y_test, y_val = train_test_split(X_test, y_test, test_size=0.1, random_state=42)"
   ]
  },
  {
   "cell_type": "code",
   "execution_count": null,
   "metadata": {},
   "outputs": [],
   "source": [
    "#change xtrain xtest xval to array\n",
    "X_train=X_train.toarray()\n",
    "X_test=X_test.toarray()\n",
    "X_val=X_val.toarray()\n",
    "\n",
    "#change ytrain ytest yval to array\n",
    "y_train=y_train.to_numpy()\n",
    "y_test=y_test.to_numpy()\n",
    "y_val=y_val.to_numpy()"
   ]
  },
  {
   "cell_type": "code",
   "execution_count": null,
   "metadata": {},
   "outputs": [],
   "source": []
  },
  {
   "cell_type": "code",
   "execution_count": null,
   "metadata": {},
   "outputs": [
    {
     "ename": "ValueError",
     "evalue": "cannot reshape array of size 167574 into shape (55858,1)",
     "output_type": "error",
     "traceback": [
      "\u001b[0;31m---------------------------------------------------------------------------\u001b[0m",
      "\u001b[0;31mValueError\u001b[0m                                Traceback (most recent call last)",
      "Cell \u001b[0;32mIn[50], line 3\u001b[0m\n\u001b[1;32m      1\u001b[0m \u001b[39m#reshape x and y for training, testing and validation convolutional neural network\u001b[39;00m\n\u001b[1;32m      2\u001b[0m X_train\u001b[39m=\u001b[39mX_train\u001b[39m.\u001b[39mreshape(X_train\u001b[39m.\u001b[39mshape[\u001b[39m0\u001b[39m],X_train\u001b[39m.\u001b[39mshape[\u001b[39m1\u001b[39m],\u001b[39m1\u001b[39m)\n\u001b[0;32m----> 3\u001b[0m y_train\u001b[39m=\u001b[39my_train\u001b[39m.\u001b[39;49mreshape(y_train\u001b[39m.\u001b[39;49mshape[\u001b[39m0\u001b[39;49m],\u001b[39m1\u001b[39;49m)\n\u001b[1;32m      5\u001b[0m X_test\u001b[39m=\u001b[39mX_test\u001b[39m.\u001b[39mreshape(X_test\u001b[39m.\u001b[39mshape[\u001b[39m0\u001b[39m],X_test\u001b[39m.\u001b[39mshape[\u001b[39m1\u001b[39m],\u001b[39m1\u001b[39m)\n\u001b[1;32m      6\u001b[0m y_test\u001b[39m=\u001b[39my_test\u001b[39m.\u001b[39mreshape(y_test\u001b[39m.\u001b[39mshape[\u001b[39m0\u001b[39m],\u001b[39m1\u001b[39m)\n",
      "\u001b[0;31mValueError\u001b[0m: cannot reshape array of size 167574 into shape (55858,1)"
     ]
    }
   ],
   "source": [
    "#reshape x and y for training, testing and validation convolutional neural network\n",
    "X_train=X_train.reshape(X_train.shape[0],X_train.shape[1],1)\n",
    "y_train=y_train.reshape(y_train.shape[0],1)\n",
    "\n",
    "X_test=X_test.reshape(X_test.shape[0],X_test.shape[1],1)\n",
    "y_test=y_test.reshape(y_test.shape[0],1)\n",
    "\n",
    "X_val=X_val.reshape(X_val.shape[0],X_val.shape[1],1)\n",
    "y_val=y_val.reshape(y_val.shape[0],1)\n"
   ]
  },
  {
   "cell_type": "code",
   "execution_count": null,
   "metadata": {},
   "outputs": [],
   "source": []
  },
  {
   "cell_type": "code",
   "execution_count": null,
   "metadata": {},
   "outputs": [],
   "source": [
    "#import tensorflow keras libraries\n",
    "from tensorflow.keras.models import Sequential\n",
    "from tensorflow.keras.layers import Dense, Dropout, Activation, Flatten, Conv1D, MaxPooling1D, GlobalMaxPooling1D , Input\n",
    "from tensorflow.keras.callbacks import EarlyStopping"
   ]
  },
  {
   "cell_type": "code",
   "execution_count": null,
   "metadata": {},
   "outputs": [],
   "source": [
    "#make y_train, y_test and y_val one hot encoded\n",
    "from tensorflow.keras.utils import to_categorical\n",
    "y_train = to_categorical(y_train,num_classes=3)\n",
    "y_test = to_categorical(y_test,num_classes=3)\n",
    "y_val = to_categorical(y_val,num_classes=3)"
   ]
  },
  {
   "cell_type": "code",
   "execution_count": null,
   "metadata": {},
   "outputs": [
    {
     "name": "stdout",
     "output_type": "stream",
     "text": [
      "(6982, 3)\n",
      "(6983, 3)\n",
      "(55858, 3)\n"
     ]
    }
   ],
   "source": [
    "#shapes of  y_test, X_val, y_val\n",
    "print(y_test.shape)\n",
    "print(y_val.shape)\n",
    "print(y_train.shape)"
   ]
  },
  {
   "cell_type": "code",
   "execution_count": null,
   "metadata": {},
   "outputs": [],
   "source": [
    "#pickle out X_test and y_test\n",
    "import pickle\n",
    "with open('X_test.pkl', 'wb') as f:\n",
    "    pickle.dump(X_test, f)\n",
    "#with open('y_test.pkl', 'wb') as f:\n",
    "#    pickle.dump(y_test, f)\n",
    "    "
   ]
  },
  {
   "cell_type": "code",
   "execution_count": null,
   "metadata": {},
   "outputs": [
    {
     "name": "stdout",
     "output_type": "stream",
     "text": [
      "Model: \"sequential\"\n",
      "_________________________________________________________________\n",
      " Layer (type)                Output Shape              Param #   \n",
      "=================================================================\n",
      " conv1d (Conv1D)             (None, 89695, 32)         128       \n",
      "                                                                 \n",
      " max_pooling1d (MaxPooling1D  (None, 29898, 32)        0         \n",
      " )                                                               \n",
      "                                                                 \n",
      " flatten (Flatten)           (None, 956736)            0         \n",
      "                                                                 \n",
      " dropout (Dropout)           (None, 956736)            0         \n",
      "                                                                 \n",
      " dense (Dense)               (None, 8)                 7653896   \n",
      "                                                                 \n",
      " dense_1 (Dense)             (None, 3)                 27        \n",
      "                                                                 \n",
      "=================================================================\n",
      "Total params: 7,654,051\n",
      "Trainable params: 7,654,051\n",
      "Non-trainable params: 0\n",
      "_________________________________________________________________\n"
     ]
    }
   ],
   "source": [
    "#build model\n",
    "model = Sequential()\n",
    "model.add(Conv1D(32, 3, activation='relu', input_shape=(X_train.shape[1],1)))\n",
    "model.add(MaxPooling1D(3))\n",
    "model.add(Flatten())\n",
    "model.add(Dropout(0.8))\n",
    "model.add(Dense(8, activation='relu'))\n",
    "model.add(Dense(3, activation='softmax'))\n",
    "\n",
    "model.compile(loss='categorical_crossentropy',\n",
    "                optimizer='adam',\n",
    "                metrics=['accuracy'])\n",
    "\n",
    "model.summary()\n"
   ]
  },
  {
   "cell_type": "code",
   "execution_count": null,
   "metadata": {},
   "outputs": [
    {
     "name": "stdout",
     "output_type": "stream",
     "text": [
      "Epoch 1/3\n"
     ]
    },
    {
     "name": "stderr",
     "output_type": "stream",
     "text": [
      "2023-02-02 06:00:04.657797: W tensorflow/tsl/platform/profile_utils/cpu_utils.cc:128] Failed to get CPU frequency: 0 Hz\n"
     ]
    },
    {
     "name": "stdout",
     "output_type": "stream",
     "text": [
      "437/437 [==============================] - 467s 1s/step - loss: 0.5160 - accuracy: 0.7885 - val_loss: 0.3018 - val_accuracy: 0.8826\n",
      "Epoch 2/3\n",
      "437/437 [==============================] - 515s 1s/step - loss: 0.2368 - accuracy: 0.9149 - val_loss: 0.2401 - val_accuracy: 0.9091\n",
      "Epoch 3/3\n",
      "437/437 [==============================] - 520s 1s/step - loss: 0.1809 - accuracy: 0.9366 - val_loss: 0.2216 - val_accuracy: 0.9191\n"
     ]
    }
   ],
   "source": [
    "#how to put early stopping in keras\n",
    "#https://stackoverflow.com/questions/43178668/how-to-put-early-stopping-in-keras\n",
    "\n",
    "early_stopping = EarlyStopping(monitor='val_loss', verbose=1 ,patience=1, mode='min')\n",
    "\n",
    "#train model\n",
    "history = model.fit(X_train, y_train,\n",
    "                    batch_size=128,\n",
    "                    epochs=3,\n",
    "                    validation_data=(X_val, y_val),\n",
    "                    verbose=1,\n",
    "                    callbacks=[early_stopping])\n"
   ]
  },
  {
   "cell_type": "code",
   "execution_count": null,
   "metadata": {},
   "outputs": [
    {
     "data": {
      "text/plain": [
       "{'loss': [0.5159991979598999, 0.23683543503284454, 0.1809103786945343],\n",
       " 'accuracy': [0.7885172963142395, 0.9148555397987366, 0.9366071224212646],\n",
       " 'val_loss': [0.3018108606338501, 0.2401273101568222, 0.22155362367630005],\n",
       " 'val_accuracy': [0.8826056122779846, 0.9090909361839294, 0.9191123843193054]}"
      ]
     },
     "execution_count": 18,
     "metadata": {},
     "output_type": "execute_result"
    }
   ],
   "source": [
    "history.history"
   ]
  },
  {
   "cell_type": "code",
   "execution_count": null,
   "metadata": {},
   "outputs": [
    {
     "name": "stdout",
     "output_type": "stream",
     "text": [
      "393/393 [==============================] - 23s 59ms/step - loss: 0.2005 - accuracy: 0.9334\n"
     ]
    },
    {
     "data": {
      "text/plain": [
       "[0.20052196085453033, 0.9334022998809814]"
      ]
     },
     "execution_count": 19,
     "metadata": {},
     "output_type": "execute_result"
    }
   ],
   "source": [
    "model.evaluate(X_test, y_test)\n",
    "\n",
    "#todo:\n",
    "#sentiment analiz için hem tfidf hem de wavelet için daha kompleks bir model geliştirmek gerekiyor.\n",
    "#transformersdan çıkan sonuçları tekrar bir transformers modeline sokmak gerekiyor.\n",
    "# "
   ]
  },
  {
   "cell_type": "code",
   "execution_count": null,
   "metadata": {},
   "outputs": [
    {
     "data": {
      "text/plain": [
       "<matplotlib.legend.Legend at 0x29e7d9db0>"
      ]
     },
     "execution_count": 20,
     "metadata": {},
     "output_type": "execute_result"
    },
    {
     "data": {
      "image/png": "[encoded data removed]",
      "text/plain": [
       "<Figure size 640x480 with 1 Axes>"
      ]
     },
     "metadata": {},
     "output_type": "display_data"
    }
   ],
   "source": [
    "\n",
    "#plot accuracy \n",
    "plt.plot(history.history['accuracy'])\n",
    "plt.plot(history.history['val_accuracy'])\n",
    "plt.title('model accuracy')\n",
    "plt.ylabel('accuracy')\n",
    "\n",
    "plt.xlabel('epoch')\n",
    "plt.legend(['train', 'val'], loc='upper left')"
   ]
  },
  {
   "cell_type": "code",
   "execution_count": null,
   "metadata": {},
   "outputs": [
    {
     "data": {
      "image/png": "[encoded data removed]",
      "text/plain": [
       "<Figure size 640x480 with 1 Axes>"
      ]
     },
     "metadata": {},
     "output_type": "display_data"
    }
   ],
   "source": [
    "\n",
    "plt.plot(history.history['loss'])\n",
    "plt.plot(history.history['val_loss'])\n",
    "plt.title('model loss')\n",
    "plt.ylabel('loss')\n",
    "plt.xlabel('epoch')\n",
    "plt.legend(['train', 'val'], loc='upper left')\n",
    "\n",
    "plt.show()\n",
    "\n",
    "\n"
   ]
  },
  {
   "cell_type": "code",
   "execution_count": null,
   "metadata": {},
   "outputs": [
    {
     "ename": "NameError",
     "evalue": "name 'X_test' is not defined",
     "output_type": "error",
     "traceback": [
      "\u001b[0;31m---------------------------------------------------------------------------\u001b[0m",
      "\u001b[0;31mNameError\u001b[0m                                 Traceback (most recent call last)",
      "Cell \u001b[0;32mIn[12], line 1\u001b[0m\n\u001b[0;32m----> 1\u001b[0m model\u001b[39m.\u001b[39mevaluate(X_test, y_test, verbose\u001b[39m=\u001b[39m\u001b[39m1\u001b[39m)\n",
      "\u001b[0;31mNameError\u001b[0m: name 'X_test' is not defined"
     ]
    }
   ],
   "source": [
    "model.evaluate(X_test, y_test, verbose=1)"
   ]
  },
  {
   "cell_type": "code",
   "execution_count": null,
   "metadata": {},
   "outputs": [
    {
     "name": "stderr",
     "output_type": "stream",
     "text": [
      "WARNING:absl:Found untraced functions such as _jit_compiled_convolution_op, _update_step_xla while saving (showing 2 of 2). These functions will not be directly callable after loading.\n"
     ]
    },
    {
     "name": "stdout",
     "output_type": "stream",
     "text": [
      "INFO:tensorflow:Assets written to: tfidfmodel/assets\n"
     ]
    },
    {
     "name": "stderr",
     "output_type": "stream",
     "text": [
      "INFO:tensorflow:Assets written to: tfidfmodel/assets\n"
     ]
    }
   ],
   "source": [
    "model.save('tfidfmodel')"
   ]
  },
  {
   "cell_type": "code",
   "execution_count": null,
   "metadata": {},
   "outputs": [],
   "source": [
    "from tensorflow.keras.models import load_model\n",
    "model = load_model(\"tfidfmodel\")"
   ]
  },
  {
   "cell_type": "code",
   "execution_count": null,
   "metadata": {},
   "outputs": [
    {
     "name": "stderr",
     "output_type": "stream",
     "text": [
      "2023-02-02 06:45:39.744887: W tensorflow/tsl/platform/profile_utils/cpu_utils.cc:128] Failed to get CPU frequency: 0 Hz\n"
     ]
    },
    {
     "name": "stdout",
     "output_type": "stream",
     "text": [
      "2182/2182 [==============================] - 135s 62ms/step\n"
     ]
    }
   ],
   "source": [
    "pd.DataFrame(model.predict(tfidf_vector.toarray()),columns=[\"tfidf_neg_clean\",\"tfidf_neu_clean\",\"tfidf_pos_clean\"]).to_csv(\"sentiment_tfidf.csv\")"
   ]
  },
  {
   "cell_type": "code",
   "execution_count": null,
   "metadata": {},
   "outputs": [],
   "source": [
    "import joblib"
   ]
  },
  {
   "cell_type": "code",
   "execution_count": null,
   "metadata": {},
   "outputs": [],
   "source": [
    "coeffs = joblib.load('coeflist.pkl')\n",
    "#make coeffs to np array\n",
    "coeffs=np.array(coeffs)"
   ]
  },
  {
   "cell_type": "code",
   "execution_count": null,
   "metadata": {},
   "outputs": [
    {
     "data": {
      "text/plain": [
       "69823"
      ]
     },
     "execution_count": 17,
     "metadata": {},
     "output_type": "execute_result"
    }
   ],
   "source": [
    "len(coeffs)"
   ]
  },
  {
   "cell_type": "code",
   "execution_count": null,
   "metadata": {},
   "outputs": [],
   "source": [
    "from sklearn.model_selection import train_test_split\n",
    "#train test split for coeffs wv\n",
    "Wv_train, Wv_test, y_train, y_test = train_test_split(coeffs, df[\"sentiment\"], test_size=0.2, random_state=42)\n",
    "#10% validation split of test\n",
    "Wv_test, Wv_val, y_test, y_val = train_test_split(Wv_test, y_test, test_size=0.5, random_state=42)"
   ]
  },
  {
   "cell_type": "code",
   "execution_count": null,
   "metadata": {},
   "outputs": [],
   "source": [
    "\n",
    "\n",
    "#change ytrain ytest yval to array\n",
    "y_train=y_train.to_numpy()\n",
    "y_test=y_test.to_numpy()\n",
    "y_val=y_val.to_numpy()\n",
    "\n",
    "#reshape x and y for training, testing and validation convolutional neural network\n",
    "Wv_train=Wv_train.reshape(Wv_train.shape[0],Wv_train.shape[1],1)\n",
    "y_train=y_train.reshape(y_train.shape[0],1)\n",
    "\n",
    "Wv_test=Wv_test.reshape(Wv_test.shape[0],Wv_test.shape[1],1)\n",
    "y_test=y_test.reshape(y_test.shape[0],1)\n",
    "\n",
    "Wv_val=Wv_val.reshape(Wv_val.shape[0],Wv_val.shape[1],1)\n",
    "y_val=y_val.reshape(y_val.shape[0],1)\n"
   ]
  },
  {
   "cell_type": "code",
   "execution_count": null,
   "metadata": {},
   "outputs": [
    {
     "name": "stdout",
     "output_type": "stream",
     "text": [
      "(6982, 44849, 1)\n",
      "(6983, 44849, 1)\n",
      "(55858, 44849, 1)\n"
     ]
    }
   ],
   "source": [
    "\n",
    "print(Wv_test.shape)\n",
    "print(Wv_val.shape)\n",
    "print(Wv_train.shape)\n",
    "\n"
   ]
  },
  {
   "cell_type": "code",
   "execution_count": null,
   "metadata": {},
   "outputs": [
    {
     "data": {
      "text/plain": [
       "array([[[0.],\n",
       "        [0.],\n",
       "        [0.],\n",
       "        ...,\n",
       "        [0.],\n",
       "        [0.],\n",
       "        [0.]],\n",
       "\n",
       "       [[0.],\n",
       "        [0.],\n",
       "        [0.],\n",
       "        ...,\n",
       "        [0.],\n",
       "        [0.],\n",
       "        [0.]],\n",
       "\n",
       "       [[0.],\n",
       "        [0.],\n",
       "        [0.],\n",
       "        ...,\n",
       "        [0.],\n",
       "        [0.],\n",
       "        [0.]]], dtype=float16)"
      ]
     },
     "execution_count": 55,
     "metadata": {},
     "output_type": "execute_result"
    }
   ],
   "source": [
    "Wv_test[]"
   ]
  },
  {
   "cell_type": "code",
   "execution_count": null,
   "metadata": {},
   "outputs": [],
   "source": [
    "#make y_train, y_test and y_val one hot encoded\n",
    "from tensorflow.keras.utils import to_categorical\n",
    "y_train = to_categorical(y_train,num_classes=3)\n",
    "y_test = to_categorical(y_test,num_classes=3)\n",
    "y_val = to_categorical(y_val,num_classes=3)"
   ]
  },
  {
   "cell_type": "code",
   "execution_count": null,
   "metadata": {},
   "outputs": [],
   "source": [
    "#pickle out X_test and y_test\n",
    "import pickle\n",
    "with open('Wv_test.pkl', 'wb') as f:\n",
    "    pickle.dump(Wv_test, f)\n",
    "with open('wvy_test.pkl', 'wb') as f:\n",
    "    pickle.dump(y_test, f)\n"
   ]
  },
  {
   "cell_type": "code",
   "execution_count": null,
   "metadata": {},
   "outputs": [
    {
     "name": "stdout",
     "output_type": "stream",
     "text": [
      "Model: \"sequential_6\"\n",
      "_________________________________________________________________\n",
      " Layer (type)                Output Shape              Param #   \n",
      "=================================================================\n",
      " conv1d_7 (Conv1D)           (None, 1, 128)            5740800   \n",
      "                                                                 \n",
      " max_pooling1d_4 (MaxPooling  (None, 1, 128)           0         \n",
      " 1D)                                                             \n",
      "                                                                 \n",
      " conv1d_8 (Conv1D)           (None, 1, 64)             8256      \n",
      "                                                                 \n",
      " flatten_2 (Flatten)         (None, 64)                0         \n",
      "                                                                 \n",
      " dropout_2 (Dropout)         (None, 64)                0         \n",
      "                                                                 \n",
      " dense_4 (Dense)             (None, 8)                 520       \n",
      "                                                                 \n",
      " dense_5 (Dense)             (None, 3)                 27        \n",
      "                                                                 \n",
      "=================================================================\n",
      "Total params: 5,749,603\n",
      "Trainable params: 5,749,603\n",
      "Non-trainable params: 0\n",
      "_________________________________________________________________\n"
     ]
    }
   ],
   "source": [
    "\n",
    "\n",
    "#build model\n",
    "modelwv2 = Sequential()\n",
    "modelwv2.add(Conv1D(128, 1, activation='relu', input_shape=(1,Wv_train.shape[1])))\n",
    "modelwv2.add(MaxPooling1D(1))\n",
    "modelwv2.add(Conv1D(64, 1, activation='relu'))\n",
    "modelwv2.add(Flatten())\n",
    "modelwv2.add(Dropout(0.8))\n",
    "modelwv2.add(Dense(8, activation='relu'))\n",
    "modelwv2.add(Dense(3, activation='softmax'))\n",
    "\n",
    "modelwv2.compile(loss='categorical_crossentropy',\n",
    "                optimizer='adam',\n",
    "                metrics=['accuracy'])\n",
    "\n",
    "modelwv2.summary()\n",
    "\n"
   ]
  },
  {
   "cell_type": "code",
   "execution_count": 73,
   "metadata": {},
   "outputs": [
    {
     "data": {
      "text/plain": [
       "(55858, 3)"
      ]
     },
     "execution_count": 73,
     "metadata": {},
     "output_type": "execute_result"
    }
   ],
   "source": [
    "y_train.shape"
   ]
  },
  {
   "cell_type": "code",
   "execution_count": 74,
   "metadata": {},
   "outputs": [
    {
     "data": {
      "text/plain": [
       "(55858, 44849, 1)"
      ]
     },
     "execution_count": 74,
     "metadata": {},
     "output_type": "execute_result"
    }
   ],
   "source": [
    "Wv_train.shape"
   ]
  },
  {
   "cell_type": "code",
   "execution_count": 71,
   "metadata": {},
   "outputs": [
    {
     "ename": "ValueError",
     "evalue": "Data cardinality is ambiguous:\n  x sizes: 44849, 44849\n  y sizes: 55858\nMake sure all arrays contain the same number of samples.",
     "output_type": "error",
     "traceback": [
      "\u001b[0;31m---------------------------------------------------------------------------\u001b[0m",
      "\u001b[0;31mValueError\u001b[0m                                Traceback (most recent call last)",
      "Cell \u001b[0;32mIn[71], line 3\u001b[0m\n\u001b[1;32m      1\u001b[0m early_stopping \u001b[39m=\u001b[39m EarlyStopping(monitor\u001b[39m=\u001b[39m\u001b[39m'\u001b[39m\u001b[39mval_loss\u001b[39m\u001b[39m'\u001b[39m, verbose\u001b[39m=\u001b[39m\u001b[39m1\u001b[39m ,patience\u001b[39m=\u001b[39m\u001b[39m1\u001b[39m, mode\u001b[39m=\u001b[39m\u001b[39m'\u001b[39m\u001b[39mmin\u001b[39m\u001b[39m'\u001b[39m)\n\u001b[1;32m      2\u001b[0m \u001b[39m#train model\u001b[39;00m\n\u001b[0;32m----> 3\u001b[0m historywv2 \u001b[39m=\u001b[39m modelwv2\u001b[39m.\u001b[39;49mfit([Wv_train[\u001b[39m2\u001b[39;49m],Wv_train[\u001b[39m1\u001b[39;49m]], y_train,\n\u001b[1;32m      4\u001b[0m                     batch_size\u001b[39m=\u001b[39;49m\u001b[39m128\u001b[39;49m,\n\u001b[1;32m      5\u001b[0m                     epochs\u001b[39m=\u001b[39;49m\u001b[39m5\u001b[39;49m,\n\u001b[1;32m      6\u001b[0m                     validation_data\u001b[39m=\u001b[39;49m([Wv_val[\u001b[39m2\u001b[39;49m],Wv_val[\u001b[39m1\u001b[39;49m]], y_val),\n\u001b[1;32m      7\u001b[0m                     verbose\u001b[39m=\u001b[39;49m\u001b[39m1\u001b[39;49m,\n\u001b[1;32m      8\u001b[0m                     callbacks\u001b[39m=\u001b[39;49m[early_stopping])\n",
      "File \u001b[0;32m~/opt/miniconda3/envs/btc/lib/python3.10/site-packages/keras/utils/traceback_utils.py:70\u001b[0m, in \u001b[0;36mfilter_traceback.<locals>.error_handler\u001b[0;34m(*args, **kwargs)\u001b[0m\n\u001b[1;32m     67\u001b[0m     filtered_tb \u001b[39m=\u001b[39m _process_traceback_frames(e\u001b[39m.\u001b[39m__traceback__)\n\u001b[1;32m     68\u001b[0m     \u001b[39m# To get the full stack trace, call:\u001b[39;00m\n\u001b[1;32m     69\u001b[0m     \u001b[39m# `tf.debugging.disable_traceback_filtering()`\u001b[39;00m\n\u001b[0;32m---> 70\u001b[0m     \u001b[39mraise\u001b[39;00m e\u001b[39m.\u001b[39mwith_traceback(filtered_tb) \u001b[39mfrom\u001b[39;00m \u001b[39mNone\u001b[39m\n\u001b[1;32m     71\u001b[0m \u001b[39mfinally\u001b[39;00m:\n\u001b[1;32m     72\u001b[0m     \u001b[39mdel\u001b[39;00m filtered_tb\n",
      "File \u001b[0;32m~/opt/miniconda3/envs/btc/lib/python3.10/site-packages/keras/engine/data_adapter.py:1848\u001b[0m, in \u001b[0;36m_check_data_cardinality\u001b[0;34m(data)\u001b[0m\n\u001b[1;32m   1841\u001b[0m     msg \u001b[39m+\u001b[39m\u001b[39m=\u001b[39m \u001b[39m\"\u001b[39m\u001b[39m  \u001b[39m\u001b[39m{}\u001b[39;00m\u001b[39m sizes: \u001b[39m\u001b[39m{}\u001b[39;00m\u001b[39m\\n\u001b[39;00m\u001b[39m\"\u001b[39m\u001b[39m.\u001b[39mformat(\n\u001b[1;32m   1842\u001b[0m         label,\n\u001b[1;32m   1843\u001b[0m         \u001b[39m\"\u001b[39m\u001b[39m, \u001b[39m\u001b[39m\"\u001b[39m\u001b[39m.\u001b[39mjoin(\n\u001b[1;32m   1844\u001b[0m             \u001b[39mstr\u001b[39m(i\u001b[39m.\u001b[39mshape[\u001b[39m0\u001b[39m]) \u001b[39mfor\u001b[39;00m i \u001b[39min\u001b[39;00m tf\u001b[39m.\u001b[39mnest\u001b[39m.\u001b[39mflatten(single_data)\n\u001b[1;32m   1845\u001b[0m         ),\n\u001b[1;32m   1846\u001b[0m     )\n\u001b[1;32m   1847\u001b[0m msg \u001b[39m+\u001b[39m\u001b[39m=\u001b[39m \u001b[39m\"\u001b[39m\u001b[39mMake sure all arrays contain the same number of samples.\u001b[39m\u001b[39m\"\u001b[39m\n\u001b[0;32m-> 1848\u001b[0m \u001b[39mraise\u001b[39;00m \u001b[39mValueError\u001b[39;00m(msg)\n",
      "\u001b[0;31mValueError\u001b[0m: Data cardinality is ambiguous:\n  x sizes: 44849, 44849\n  y sizes: 55858\nMake sure all arrays contain the same number of samples."
     ]
    }
   ],
   "source": [
    "early_stopping = EarlyStopping(monitor='val_loss', verbose=1 ,patience=1, mode='min')\n",
    "#train model\n",
    "historywv2 = modelwv2.fit([Wv_train[0],Wv_train[2],Wv_train[1]], y_train,\n",
    "                    batch_size=128,\n",
    "                    epochs=5,\n",
    "                    validation_data=([Wv_val[0],Wv_val[2],Wv_val[1]], y_val),\n",
    "                    verbose=1,\n",
    "                    callbacks=[early_stopping])\n",
    "\n"
   ]
  },
  {
   "cell_type": "code",
   "execution_count": 29,
   "metadata": {},
   "outputs": [
    {
     "name": "stdout",
     "output_type": "stream",
     "text": [
      "Model: \"sequential\"\n",
      "_________________________________________________________________\n",
      " Layer (type)                Output Shape              Param #   \n",
      "=================================================================\n",
      " conv1d (Conv1D)             (None, 44847, 32)         128       \n",
      "                                                                 \n",
      " max_pooling1d (MaxPooling1D  (None, 14949, 32)        0         \n",
      " )                                                               \n",
      "                                                                 \n",
      " flatten (Flatten)           (None, 478368)            0         \n",
      "                                                                 \n",
      " dropout (Dropout)           (None, 478368)            0         \n",
      "                                                                 \n",
      " dense (Dense)               (None, 8)                 3826952   \n",
      "                                                                 \n",
      " dense_1 (Dense)             (None, 3)                 27        \n",
      "                                                                 \n",
      "=================================================================\n",
      "Total params: 3,827,107\n",
      "Trainable params: 3,827,107\n",
      "Non-trainable params: 0\n",
      "_________________________________________________________________\n"
     ]
    }
   ],
   "source": [
    "\n",
    "\n",
    "#build model\n",
    "modelwv = Sequential()\n",
    "modelwv.add(Conv1D(32, 3, activation='relu', input_shape=(Wv_train.shape[1],1)))\n",
    "modelwv.add(MaxPooling1D(3))\n",
    "modelwv.add(Flatten())\n",
    "modelwv.add(Dropout(0.8))\n",
    "modelwv.add(Dense(8, activation='relu'))\n",
    "modelwv.add(Dense(3, activation='softmax'))\n",
    "\n",
    "modelwv.compile(loss='categorical_crossentropy',\n",
    "                optimizer='adam',\n",
    "                metrics=['accuracy'])\n",
    "\n",
    "modelwv.summary()\n",
    "\n"
   ]
  },
  {
   "cell_type": "code",
   "execution_count": 31,
   "metadata": {},
   "outputs": [
    {
     "name": "stdout",
     "output_type": "stream",
     "text": [
      "Epoch 1/3\n",
      "437/437 [==============================] - 231s 527ms/step - loss: 0.8838 - accuracy: 0.6734 - val_loss: 0.6725 - val_accuracy: 0.8017\n",
      "Epoch 2/3\n",
      "437/437 [==============================] - 259s 592ms/step - loss: 0.4858 - accuracy: 0.8178 - val_loss: 0.3213 - val_accuracy: 0.8829\n",
      "Epoch 3/3\n",
      "437/437 [==============================] - 276s 631ms/step - loss: 0.2736 - accuracy: 0.9026 - val_loss: 0.2654 - val_accuracy: 0.9126\n"
     ]
    }
   ],
   "source": [
    "early_stopping = EarlyStopping(monitor='val_loss', verbose=1 ,patience=1, mode='min')\n",
    "#train model\n",
    "historywv = modelwv.fit(Wv_train, y_train,\n",
    "                    batch_size=128,\n",
    "                    epochs=3,\n",
    "                    validation_data=(Wv_val, y_val),\n",
    "                    verbose=1,\n",
    "                    callbacks=[early_stopping])\n"
   ]
  },
  {
   "cell_type": "code",
   "execution_count": 45,
   "metadata": {},
   "outputs": [
    {
     "ename": "NameError",
     "evalue": "name 'historywv' is not defined",
     "output_type": "error",
     "traceback": [
      "\u001b[0;31m---------------------------------------------------------------------------\u001b[0m",
      "\u001b[0;31mNameError\u001b[0m                                 Traceback (most recent call last)",
      "Cell \u001b[0;32mIn[45], line 1\u001b[0m\n\u001b[0;32m----> 1\u001b[0m historywv\n",
      "\u001b[0;31mNameError\u001b[0m: name 'historywv' is not defined"
     ]
    }
   ],
   "source": [
    "historywv"
   ]
  },
  {
   "cell_type": "code",
   "execution_count": 34,
   "metadata": {},
   "outputs": [
    {
     "data": {
      "text/plain": [
       "<matplotlib.legend.Legend at 0x291e12380>"
      ]
     },
     "execution_count": 34,
     "metadata": {},
     "output_type": "execute_result"
    },
    {
     "data": {
      "image/png": "[encoded data removed]",
      "text/plain": [
       "<Figure size 640x480 with 1 Axes>"
      ]
     },
     "metadata": {},
     "output_type": "display_data"
    }
   ],
   "source": [
    "\n",
    "#plot accuracy \n",
    "plt.plot(historywv.history['accuracy'])\n",
    "plt.plot(historywv.history['val_accuracy'])\n",
    "plt.title('model accuracy')\n",
    "plt.ylabel('accuracy')\n",
    "\n",
    "plt.xlabel('epoch')\n",
    "plt.legend(['train', 'val'], loc='upper left')"
   ]
  },
  {
   "cell_type": "code",
   "execution_count": 33,
   "metadata": {},
   "outputs": [
    {
     "data": {
      "image/png": "[encoded data removed]",
      "text/plain": [
       "<Figure size 640x480 with 1 Axes>"
      ]
     },
     "metadata": {},
     "output_type": "display_data"
    }
   ],
   "source": [
    "\n",
    "plt.plot(historywv.history['loss'])\n",
    "plt.plot(historywv.history['val_loss'])\n",
    "plt.title('model loss')\n",
    "plt.ylabel('loss')\n",
    "plt.xlabel('epoch')\n",
    "plt.legend(['train', 'val'], loc='upper left')\n",
    "\n",
    "plt.show()\n",
    "\n",
    "\n"
   ]
  },
  {
   "cell_type": "code",
   "execution_count": 46,
   "metadata": {},
   "outputs": [],
   "source": [
    "from tensorflow.keras.models import load_model\n",
    "modelwv = load_model(\"models/wvmodel\")"
   ]
  },
  {
   "cell_type": "code",
   "execution_count": 47,
   "metadata": {},
   "outputs": [
    {
     "name": "stderr",
     "output_type": "stream",
     "text": [
      "2023-02-02 10:35:03.121301: W tensorflow/tsl/platform/profile_utils/cpu_utils.cc:128] Failed to get CPU frequency: 0 Hz\n"
     ]
    },
    {
     "name": "stdout",
     "output_type": "stream",
     "text": [
      "219/219 - 7s - loss: 0.2488 - accuracy: 0.9139 - 7s/epoch - 30ms/step\n"
     ]
    },
    {
     "data": {
      "text/plain": [
       "[0.2488248348236084, 0.9139215350151062]"
      ]
     },
     "execution_count": 47,
     "metadata": {},
     "output_type": "execute_result"
    }
   ],
   "source": [
    "modelwv.evaluate(Wv_test, y_test, verbose=2)"
   ]
  },
  {
   "cell_type": "code",
   "execution_count": 7,
   "metadata": {},
   "outputs": [],
   "source": [
    "coeffs=coeffs.reshape(coeffs.shape[0],coeffs.shape[1],1)"
   ]
  },
  {
   "cell_type": "code",
   "execution_count": 8,
   "metadata": {},
   "outputs": [
    {
     "data": {
      "text/plain": [
       "(69823, 44849, 1)"
      ]
     },
     "execution_count": 8,
     "metadata": {},
     "output_type": "execute_result"
    }
   ],
   "source": [
    "coeffs.shape"
   ]
  },
  {
   "cell_type": "code",
   "execution_count": 9,
   "metadata": {},
   "outputs": [
    {
     "name": "stdout",
     "output_type": "stream",
     "text": [
      "   1/2182 [..............................] - ETA: 4:56"
     ]
    },
    {
     "name": "stderr",
     "output_type": "stream",
     "text": [
      "2023-02-02 07:20:35.299529: W tensorflow/tsl/platform/profile_utils/cpu_utils.cc:128] Failed to get CPU frequency: 0 Hz\n"
     ]
    },
    {
     "name": "stdout",
     "output_type": "stream",
     "text": [
      "2182/2182 [==============================] - 70s 32ms/step\n"
     ]
    }
   ],
   "source": [
    "pd.DataFrame(modelwv.predict(coeffs),columns=[\"wv_neg_clean\",\"wv_neu_clean\",\"wv_pos_clean\"]).to_csv(\"sentiment_wv.csv\")"
   ]
  },
  {
   "cell_type": "code",
   "execution_count": 36,
   "metadata": {},
   "outputs": [
    {
     "name": "stderr",
     "output_type": "stream",
     "text": [
      "WARNING:absl:Found untraced functions such as _jit_compiled_convolution_op, _update_step_xla while saving (showing 2 of 2). These functions will not be directly callable after loading.\n"
     ]
    },
    {
     "name": "stdout",
     "output_type": "stream",
     "text": [
      "INFO:tensorflow:Assets written to: wvmodel/assets\n"
     ]
    },
    {
     "name": "stderr",
     "output_type": "stream",
     "text": [
      "INFO:tensorflow:Assets written to: wvmodel/assets\n"
     ]
    }
   ],
   "source": [
    "modelwv.save(\"wvmodel\")"
   ]
  },
  {
   "attachments": {},
   "cell_type": "markdown",
   "metadata": {},
   "source": [
    "# WORD2VEC EMBEDDINGS"
   ]
  },
  {
   "cell_type": "code",
   "execution_count": 72,
   "metadata": {},
   "outputs": [],
   "source": [
    "import gensim\n",
    "from gensim.models import Word2Vec\n",
    "from gensim.models import KeyedVectors\n"
   ]
  },
  {
   "cell_type": "code",
   "execution_count": 75,
   "metadata": {},
   "outputs": [],
   "source": [
    "df=pd.read_pickle(\"preprocessed.pkl\")"
   ]
  },
  {
   "cell_type": "code",
   "execution_count": 82,
   "metadata": {},
   "outputs": [
    {
     "name": "stderr",
     "output_type": "stream",
     "text": [
      "WARNING:gensim.models.word2vec:Each 'sentences' item should be a list of words (usually unicode strings). First item here is instead plain <class 'str'>.\n",
      "WARNING:gensim.models.word2vec:Effective 'alpha' higher than previous training cycles\n"
     ]
    },
    {
     "data": {
      "text/plain": [
       "(41900426, 202191090)"
      ]
     },
     "execution_count": 82,
     "metadata": {},
     "output_type": "execute_result"
    }
   ],
   "source": [
    "cbow_vectors = gensim.models.Word2Vec(df['Clean_Tweet'],vector_size=300,window=3, min_count=2)\n",
    "cbow_vectors.train(df['Clean_Tweet'],total_examples=len(df['Clean_Tweet']),epochs=30)\n"
   ]
  },
  {
   "cell_type": "code",
   "execution_count": 83,
   "metadata": {},
   "outputs": [],
   "source": [
    "#create clean_tweet tokenized column\n",
    "df['Clean_Tweet_Tokenized'] = df['Clean_Tweet'].apply(lambda x: x.split())"
   ]
  },
  {
   "cell_type": "code",
   "execution_count": 85,
   "metadata": {},
   "outputs": [
    {
     "name": "stderr",
     "output_type": "stream",
     "text": [
      "/var/folders/pj/_k55qbhj39dcrl55zbnt5z7h0000gn/T/ipykernel_90727/2890085495.py:2: VisibleDeprecationWarning: Creating an ndarray from ragged nested sequences (which is a list-or-tuple of lists-or-tuples-or ndarrays with different lengths or shapes) is deprecated. If you meant to do this, you must specify 'dtype=object' when creating the ndarray.\n",
      "  df['Text_vect'] = np.array([np.array([cbow_vectors.wv[i] for i in ls if i in words])\n"
     ]
    }
   ],
   "source": [
    "#creating vectors for each tweet\n",
    "words = set(cbow_vectors.wv.index_to_key )\n",
    "df['Text_vect'] = np.array([np.array([cbow_vectors.wv[i] for i in ls if i in words])\n",
    "                         for ls in df['Clean_Tweet_Tokenized']])\n",
    "\n"
   ]
  },
  {
   "cell_type": "code",
   "execution_count": 88,
   "metadata": {},
   "outputs": [],
   "source": [
    "#creating same sized vectors for each tweet\n",
    "vector_size_n = 300\n",
    "text_vect_avg = []\n",
    "for v in df['Text_vect']:\n",
    "    if v.size:\n",
    "        text_vect_avg.append(v.mean(axis=0))\n",
    "    else:\n",
    "        text_vect_avg.append(np.zeros(vector_size_n, dtype=float)) # the same vector size must be used here as for model training\n",
    "        \n",
    "        \n",
    "df['Text_vect_avg'] = text_vect_avg"
   ]
  },
  {
   "cell_type": "code",
   "execution_count": 95,
   "metadata": {},
   "outputs": [],
   "source": [
    "#create numpy array from text_vect_avg column\n",
    "text_vect_avg=np.array(df['Text_vect_avg'].tolist())\n"
   ]
  },
  {
   "cell_type": "code",
   "execution_count": 97,
   "metadata": {},
   "outputs": [],
   "source": [
    "#split data into training, testing and validation without train_test_split\n",
    "w2v_train = text_vect_avg[:int(text_vect_avg.shape[0]*0.8)]\n",
    "w2v_test = text_vect_avg[int(text_vect_avg.shape[0]*0.8):int(text_vect_avg.shape[0]*0.9)]\n",
    "w2v_val = text_vect_avg[int(text_vect_avg.shape[0]*0.9):]\n"
   ]
  },
  {
   "cell_type": "code",
   "execution_count": 98,
   "metadata": {},
   "outputs": [],
   "source": [
    "#reshape x and y for training, testing and validation convolutional neural network\n",
    "w2v_train=w2v_train.reshape(w2v_train.shape[0],w2v_train.shape[1],1)\n",
    "w2v_test=w2v_test.reshape(w2v_test.shape[0],w2v_test.shape[1],1)\n",
    "w2v_val=w2v_val.reshape(w2v_val.shape[0],w2v_val.shape[1],1)"
   ]
  },
  {
   "cell_type": "code",
   "execution_count": 56,
   "metadata": {},
   "outputs": [
    {
     "ename": "NameError",
     "evalue": "name 'w2v_val' is not defined",
     "output_type": "error",
     "traceback": [
      "\u001b[0;31m---------------------------------------------------------------------------\u001b[0m",
      "\u001b[0;31mNameError\u001b[0m                                 Traceback (most recent call last)",
      "Cell \u001b[0;32mIn[56], line 1\u001b[0m\n\u001b[0;32m----> 1\u001b[0m w2v_val[:\u001b[39m3\u001b[39m]\n",
      "\u001b[0;31mNameError\u001b[0m: name 'w2v_val' is not defined"
     ]
    }
   ],
   "source": [
    "w2v_val[:3]"
   ]
  },
  {
   "cell_type": "code",
   "execution_count": 102,
   "metadata": {},
   "outputs": [
    {
     "name": "stdout",
     "output_type": "stream",
     "text": [
      "Model: \"sequential_9\"\n",
      "_________________________________________________________________\n",
      " Layer (type)                Output Shape              Param #   \n",
      "=================================================================\n",
      " conv1d_9 (Conv1D)           (None, 298, 16)           64        \n",
      "                                                                 \n",
      " max_pooling1d_9 (MaxPooling  (None, 99, 16)           0         \n",
      " 1D)                                                             \n",
      "                                                                 \n",
      " flatten_9 (Flatten)         (None, 1584)              0         \n",
      "                                                                 \n",
      " dense_18 (Dense)            (None, 4)                 6340      \n",
      "                                                                 \n",
      " dense_19 (Dense)            (None, 3)                 15        \n",
      "                                                                 \n",
      "=================================================================\n",
      "Total params: 6,419\n",
      "Trainable params: 6,419\n",
      "Non-trainable params: 0\n",
      "_________________________________________________________________\n"
     ]
    }
   ],
   "source": [
    "\n",
    "\n",
    "#build model\n",
    "modelw2vdeneme = Sequential()\n",
    "modelw2vdeneme.add(Conv1D(16, 3, activation='relu', input_shape=(w2v_train.shape[1],1)))\n",
    "modelw2vdeneme.add(MaxPooling1D(3))\n",
    "modelw2vdeneme.add(Flatten())\n",
    "modelw2vdeneme.add(Dense(4, activation='relu'))\n",
    "modelw2vdeneme.add(Dense(3, activation='softmax'))\n",
    "\n",
    "modelw2vdeneme.compile(loss='categorical_crossentropy',\n",
    "                optimizer='adam',\n",
    "                metrics=['accuracy'])\n",
    "\n",
    "modelw2vdeneme.summary()\n"
   ]
  },
  {
   "cell_type": "code",
   "execution_count": 103,
   "metadata": {},
   "outputs": [
    {
     "name": "stdout",
     "output_type": "stream",
     "text": [
      "Epoch 1/3\n",
      "437/437 [==============================] - 2s 3ms/step - loss: 0.9671 - accuracy: 0.5271 - val_loss: 0.9473 - val_accuracy: 0.5403\n",
      "Epoch 2/3\n",
      "437/437 [==============================] - 1s 3ms/step - loss: 0.9456 - accuracy: 0.5530 - val_loss: 0.9385 - val_accuracy: 0.5432\n",
      "Epoch 3/3\n",
      "437/437 [==============================] - 1s 3ms/step - loss: 0.9430 - accuracy: 0.5544 - val_loss: 0.9365 - val_accuracy: 0.5385\n"
     ]
    }
   ],
   "source": [
    "#train model\n",
    "historyw2v = modelw2vdeneme.fit(w2v_train, y_train,\n",
    "                    batch_size=128,\n",
    "                    epochs=3,\n",
    "                    validation_data=(w2v_val, y_val))\n"
   ]
  },
  {
   "cell_type": "code",
   "execution_count": 104,
   "metadata": {},
   "outputs": [
    {
     "name": "stdout",
     "output_type": "stream",
     "text": [
      "219/219 [==============================] - 0s 750us/step - loss: 0.9659 - accuracy: 0.5275\n"
     ]
    },
    {
     "data": {
      "text/plain": [
       "[0.9659247398376465, 0.527499258518219]"
      ]
     },
     "execution_count": 104,
     "metadata": {},
     "output_type": "execute_result"
    }
   ],
   "source": [
    "modelw2vdeneme.evaluate(w2v_test,y_test)"
   ]
  },
  {
   "cell_type": "code",
   "execution_count": 35,
   "metadata": {},
   "outputs": [
    {
     "data": {
      "text/plain": [
       "(6982, 3)"
      ]
     },
     "execution_count": 35,
     "metadata": {},
     "output_type": "execute_result"
    }
   ],
   "source": [
    "y_pred.shape"
   ]
  },
  {
   "cell_type": "code",
   "execution_count": 38,
   "metadata": {},
   "outputs": [
    {
     "data": {
      "text/plain": [
       "array([[0.47210345, 0.46506333, 0.0628332 ],\n",
       "       [0.23492755, 0.6801276 , 0.0849448 ],\n",
       "       [0.5997001 , 0.30878103, 0.09151892],\n",
       "       ...,\n",
       "       [0.7522134 , 0.16270538, 0.08508124],\n",
       "       [0.7120504 , 0.22910105, 0.05884856],\n",
       "       [0.25090465, 0.6587722 , 0.09032318]], dtype=float32)"
      ]
     },
     "execution_count": 38,
     "metadata": {},
     "output_type": "execute_result"
    }
   ],
   "source": [
    "y_pred"
   ]
  },
  {
   "cell_type": "code",
   "execution_count": 101,
   "metadata": {},
   "outputs": [
    {
     "data": {
      "text/plain": [
       "array([1.], dtype=float32)"
      ]
     },
     "execution_count": 101,
     "metadata": {},
     "output_type": "execute_result"
    }
   ],
   "source": [
    "y_pred[1]"
   ]
  },
  {
   "cell_type": "code",
   "execution_count": 92,
   "metadata": {},
   "outputs": [
    {
     "data": {
      "text/plain": [
       "1.0    6982\n",
       "dtype: int64"
      ]
     },
     "execution_count": 92,
     "metadata": {},
     "output_type": "execute_result"
    }
   ],
   "source": [
    "y_pred.value_counts()"
   ]
  },
  {
   "cell_type": "code",
   "execution_count": null,
   "metadata": {},
   "outputs": [],
   "source": []
  }
 ],
 "metadata": {
  "kernelspec": {
   "display_name": "Python 3 (ipykernel)",
   "language": "python",
   "name": "python3"
  },
  "language_info": {
   "codemirror_mode": {
    "name": "ipython",
    "version": 3
   },
   "file_extension": ".py",
   "mimetype": "text/x-python",
   "name": "python",
   "nbconvert_exporter": "python",
   "pygments_lexer": "ipython3",
   "version": "3.10.9"
  },
  "vscode": {
   "interpreter": {
    "hash": "b5955d867877157d1e9932ee37ca2327ecd4572320c447a53316b1efa9982ede"
   }
  }
 },
 "nbformat": 4,
 "nbformat_minor": 2
}
